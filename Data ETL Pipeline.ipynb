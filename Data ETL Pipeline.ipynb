{
 "cells": [
  {
   "cell_type": "markdown",
   "id": "e2ff9fee",
   "metadata": {},
   "source": [
    "To develop a Data ETL pipeline using Python, the first step is to collect data from a data source. Let’s use the Fashion-MNIST dataset provided by the Keras library."
   ]
  },
  {
   "cell_type": "code",
   "execution_count": 1,
   "id": "033955d4",
   "metadata": {
    "scrolled": false
   },
   "outputs": [
    {
     "name": "stdout",
     "output_type": "stream",
     "text": [
      "Downloading data from https://storage.googleapis.com/tensorflow/tf-keras-datasets/train-labels-idx1-ubyte.gz\n",
      "29515/29515 [==============================] - 0s 8us/step\n",
      "Downloading data from https://storage.googleapis.com/tensorflow/tf-keras-datasets/train-images-idx3-ubyte.gz\n",
      "26421880/26421880 [==============================] - 18s 1us/step\n",
      "Downloading data from https://storage.googleapis.com/tensorflow/tf-keras-datasets/t10k-labels-idx1-ubyte.gz\n",
      "5148/5148 [==============================] - 0s 0s/step\n",
      "Downloading data from https://storage.googleapis.com/tensorflow/tf-keras-datasets/t10k-images-idx3-ubyte.gz\n",
      "4422102/4422102 [==============================] - 3s 1us/step\n"
     ]
    }
   ],
   "source": [
    "import tensorflow.keras as keras\n",
    "(xtrain, ytrain), (xtest, ytest) = keras.datasets.fashion_mnist.load_data()"
   ]
  },
  {
   "cell_type": "markdown",
   "id": "96d1b437",
   "metadata": {},
   "source": [
    "Let’s have a look at the shape of the data"
   ]
  },
  {
   "cell_type": "code",
   "execution_count": 2,
   "id": "2e0bcd88",
   "metadata": {},
   "outputs": [
    {
     "name": "stdout",
     "output_type": "stream",
     "text": [
      "(60000, 28, 28)\n",
      "(60000,)\n",
      "(10000, 28, 28)\n",
      "(10000,)\n"
     ]
    }
   ],
   "source": [
    "print(xtrain.shape)\n",
    "print(ytrain.shape)\n",
    "print(xtest.shape)\n",
    "print(ytest.shape)"
   ]
  },
  {
   "cell_type": "markdown",
   "id": "50508a9d",
   "metadata": {},
   "source": [
    "Now let’s clean and transform the data. Here we will normalize the pixel values to be between 0 and 1 and reshape the data into a 4D tensor:"
   ]
  },
  {
   "cell_type": "code",
   "execution_count": 3,
   "id": "71e7384e",
   "metadata": {},
   "outputs": [
    {
     "name": "stdout",
     "output_type": "stream",
     "text": [
      "(60000, 28, 28, 1)\n",
      "(60000,)\n",
      "(10000, 28, 28, 1)\n",
      "(10000,)\n"
     ]
    }
   ],
   "source": [
    "import numpy as np\n",
    "\n",
    "xtrain = xtrain.astype('float32') / 255\n",
    "xtest = xtest.astype('float32') / 255\n",
    "\n",
    "xtrain = np.reshape(xtrain, (xtrain.shape[0], 28, 28, 1))\n",
    "xtest = np.reshape(xtest, (xtest.shape[0], 28, 28, 1))\n",
    "\n",
    "print(xtrain.shape)\n",
    "print(ytrain.shape)\n",
    "print(xtest.shape)\n",
    "print(ytest.shape)"
   ]
  },
  {
   "cell_type": "markdown",
   "id": "214e2b36",
   "metadata": {},
   "source": [
    "Now let’s load the data into a database. We can use SQLite to create a database and load the data into it:"
   ]
  },
  {
   "cell_type": "code",
   "execution_count": 4,
   "id": "62b5677a",
   "metadata": {},
   "outputs": [],
   "source": [
    "import sqlite3\n",
    "\n",
    "conn = sqlite3.connect('fashion_mnist.db')\n",
    "\n",
    "conn.execute('''CREATE TABLE IF NOT EXISTS images\n",
    "             (id INTEGER PRIMARY KEY AUTOINCREMENT,\n",
    "             image BLOB NOT NULL,\n",
    "             label INTEGER NOT NULL);''')\n",
    "\n",
    "for i in range(xtrain.shape[0]):\n",
    "    conn.execute('INSERT INTO images (image, label) VALUES (?, ?)',\n",
    "                [sqlite3.Binary(xtrain[i]), ytrain[i]])\n",
    "\n",
    "conn.commit()\n",
    "\n",
    "for i in range(xtest.shape[0]):\n",
    "    conn.execute('INSERT INTO images (image, label) VALUES (?, ?)',\n",
    "                [sqlite3.Binary(xtest[i]), ytest[i]])\n",
    "\n",
    "conn.commit()\n",
    "\n",
    "conn.close()"
   ]
  },
  {
   "cell_type": "markdown",
   "id": "6155ada1",
   "metadata": {},
   "source": [
    "In the above code:\n",
    "\n",
    "1. The first line imports a library called sqlite3, which allows us to work with SQLite databases in Python;\n",
    "2. We then create a connection to the database;\n",
    "3. Next, we create a table in the database called “images”;\n",
    "4. We use a loop to loop through each image in the training data and insert it into the “images” table (along with the labels);\n",
    "5. We use the commit() method to save the changes we made to the database;\n",
    "6. We then use another loop to loop through each image in the test data and insert it into the “images” table (along with the labels);\n",
    "7. We use the commit() method again to save the changes we made to the database;\n",
    "8. Finally, we close the connection to the database;\n",
    "\n",
    "So this is how we can create a Data ETL pipeline using Python. Our ETL pipeline takes the Fashion MNIST dataset and stores it in an SQLite database so that we can easily access and manipulate the data later.\n",
    "\n",
    "Now, this is how you can read the data you stored on the SQLite database:"
   ]
  },
  {
   "cell_type": "code",
   "execution_count": 5,
   "id": "038136e8",
   "metadata": {},
   "outputs": [],
   "source": [
    "import sqlite3\n",
    "conn = sqlite3.connect('fashion_mnist.db')\n",
    "cursor = conn.cursor()\n",
    "\n",
    "cursor.execute('SELECT * FROM images')\n",
    "rows = cursor.fetchall()\n",
    "\n",
    "import pandas as pd\n",
    "data = pd.read_sql_query('SELECT * FROM images', conn)"
   ]
  }
 ],
 "metadata": {
  "kernelspec": {
   "display_name": "Python 3 (ipykernel)",
   "language": "python",
   "name": "python3"
  },
  "language_info": {
   "codemirror_mode": {
    "name": "ipython",
    "version": 3
   },
   "file_extension": ".py",
   "mimetype": "text/x-python",
   "name": "python",
   "nbconvert_exporter": "python",
   "pygments_lexer": "ipython3",
   "version": "3.9.12"
  }
 },
 "nbformat": 4,
 "nbformat_minor": 5
}
